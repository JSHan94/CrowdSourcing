{
 "cells": [
  {
   "cell_type": "code",
   "execution_count": 2,
   "metadata": {},
   "outputs": [
    {
     "name": "stdout",
     "output_type": "stream",
     "text": [
      "\u001b[33mDEPRECATION: Python 2.7 reached the end of its life on January 1st, 2020. Please upgrade your Python as Python 2.7 is no longer maintained. pip 21.0 will drop support for Python 2.7 in January 2021. More details about Python 2 support in pip can be found at https://pip.pypa.io/en/latest/development/release-process/#python-2-support\u001b[0m\n",
      "Defaulting to user installation because normal site-packages is not writeable\n",
      "Requirement already satisfied: matplotlib in /System/Library/Frameworks/Python.framework/Versions/2.7/Extras/lib/python (1.3.1)\n",
      "Requirement already satisfied: numpy>=1.5 in /System/Library/Frameworks/Python.framework/Versions/2.7/Extras/lib/python (from matplotlib) (1.8.0rc1)\n",
      "Requirement already satisfied: python-dateutil in /Users/hanjeongsu/Library/Python/2.7/lib/python/site-packages (from matplotlib) (2.8.1)\n",
      "Requirement already satisfied: tornado in /Users/hanjeongsu/Library/Python/2.7/lib/python/site-packages (from matplotlib) (5.1.1)\n",
      "Requirement already satisfied: pyparsing>=1.5.6 in /Users/hanjeongsu/Library/Python/2.7/lib/python/site-packages (from matplotlib) (2.4.7)\n",
      "Requirement already satisfied: nose in /Users/hanjeongsu/Library/Python/2.7/lib/python/site-packages (from matplotlib) (1.3.7)\n",
      "Requirement already satisfied: six>=1.5 in /System/Library/Frameworks/Python.framework/Versions/2.7/Extras/lib/python (from python-dateutil->matplotlib) (1.12.0)\n",
      "Requirement already satisfied: backports-abc>=0.4 in /Users/hanjeongsu/Library/Python/2.7/lib/python/site-packages (from tornado->matplotlib) (0.5)\n",
      "Requirement already satisfied: futures in /Users/hanjeongsu/Library/Python/2.7/lib/python/site-packages (from tornado->matplotlib) (3.3.0)\n",
      "Requirement already satisfied: singledispatch in /Users/hanjeongsu/Library/Python/2.7/lib/python/site-packages (from tornado->matplotlib) (3.4.0.3)\n"
     ]
    },
    {
     "ename": "ModuleNotFoundError",
     "evalue": "No module named 'numpy'",
     "output_type": "error",
     "traceback": [
      "\u001b[0;31m---------------------------------------------------------------------------\u001b[0m",
      "\u001b[0;31mModuleNotFoundError\u001b[0m                       Traceback (most recent call last)",
      "\u001b[0;32m<ipython-input-2-b8dccf07257b>\u001b[0m in \u001b[0;36m<module>\u001b[0;34m\u001b[0m\n\u001b[1;32m      2\u001b[0m \u001b[0;34m\u001b[0m\u001b[0m\n\u001b[1;32m      3\u001b[0m \u001b[0;32mimport\u001b[0m \u001b[0mrandom\u001b[0m\u001b[0;34m\u001b[0m\u001b[0;34m\u001b[0m\u001b[0m\n\u001b[0;32m----> 4\u001b[0;31m \u001b[0;32mimport\u001b[0m \u001b[0mnumpy\u001b[0m \u001b[0;32mas\u001b[0m \u001b[0mnp\u001b[0m\u001b[0;34m\u001b[0m\u001b[0;34m\u001b[0m\u001b[0m\n\u001b[0m\u001b[1;32m      5\u001b[0m \u001b[0;34m\u001b[0m\u001b[0m\n\u001b[1;32m      6\u001b[0m \u001b[0mlabel_category\u001b[0m \u001b[0;34m=\u001b[0m \u001b[0;34m[\u001b[0m\u001b[0;36m1\u001b[0m\u001b[0;34m,\u001b[0m\u001b[0;36m0\u001b[0m\u001b[0;34m]\u001b[0m\u001b[0;34m\u001b[0m\u001b[0;34m\u001b[0m\u001b[0m\n",
      "\u001b[0;31mModuleNotFoundError\u001b[0m: No module named 'numpy'"
     ]
    }
   ],
   "source": [
    "!pip install matplotlib\n",
    "\n",
    "import random\n",
    "import numpy as np\n",
    "\n",
    "label_category = [1,0]\n",
    "prevalance = 0.5\n",
    "\n",
    "class Node:\n",
    "    def __init__(self,node_id,sc,pred_auc):\n",
    "        self.id = node_id\n",
    "        self.spammer_score = sc\n",
    "        self.pred_auc = pred_auc\n",
    "        self.recall = 0\n",
    "        self.fallout = 0\n",
    "        self.auc = self.recall*prevalance + (1-self.fallout)*(1-prevalance)\n",
    "        self.pred_history = []\n",
    "    def get_info(self):\n",
    "        print(f\"id : {self.id}, spammer score : {self.spammer_score}, pred_auc : {self.pred_auc}, recall : {self.recall}, fallout : {self.fallout}, auc : {self.auc}\")\n",
    "    def make_label(self):\n",
    "        return random.choices(label_category, weights=[self.auc] + [(1-self.auc)/(len(label_category) -1) for i in range(len(label_category)-1)],k=1)\n",
    "    \n",
    "\n",
    "    "
   ]
  },
  {
   "cell_type": "code",
   "execution_count": 16,
   "metadata": {},
   "outputs": [],
   "source": [
    "class Crowdsource:\n",
    "    def __init__(self):\n",
    "        pass\n",
    "    def consensus(self):\n",
    "        pass"
   ]
  },
  {
   "cell_type": "code",
   "execution_count": 3,
   "metadata": {},
   "outputs": [
    {
     "ename": "ModuleNotFoundError",
     "evalue": "No module named 'matplotlib'",
     "output_type": "error",
     "traceback": [
      "\u001b[0;31m---------------------------------------------------------------------------\u001b[0m",
      "\u001b[0;31mModuleNotFoundError\u001b[0m                       Traceback (most recent call last)",
      "\u001b[0;32m<ipython-input-3-99ba79ecbbfb>\u001b[0m in \u001b[0;36m<module>\u001b[0;34m\u001b[0m\n\u001b[0;32m----> 1\u001b[0;31m \u001b[0;32mfrom\u001b[0m \u001b[0mmatplotlib\u001b[0m \u001b[0;32mimport\u001b[0m \u001b[0mpyplot\u001b[0m \u001b[0;32mas\u001b[0m \u001b[0mplt\u001b[0m\u001b[0;34m\u001b[0m\u001b[0;34m\u001b[0m\u001b[0m\n\u001b[0m",
      "\u001b[0;31mModuleNotFoundError\u001b[0m: No module named 'matplotlib'"
     ]
    }
   ],
   "source": []
  },
  {
   "cell_type": "code",
   "execution_count": null,
   "metadata": {},
   "outputs": [],
   "source": []
  }
 ],
 "metadata": {
  "kernelspec": {
   "display_name": "Python 3",
   "language": "python",
   "name": "python3"
  },
  "language_info": {
   "codemirror_mode": {
    "name": "ipython",
    "version": 3
   },
   "file_extension": ".py",
   "mimetype": "text/x-python",
   "name": "python",
   "nbconvert_exporter": "python",
   "pygments_lexer": "ipython3",
   "version": "3.8.5"
  }
 },
 "nbformat": 4,
 "nbformat_minor": 4
}
